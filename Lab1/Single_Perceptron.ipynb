{
 "cells": [
  {
   "cell_type": "markdown",
   "metadata": {},
   "source": [
    "# Single perceptron\n",
    "\n",
    "We want to implement a single layer perceptron to classify AND, OR and XOR using perceptron learning and delta rule.\n",
    "\n",
    "In this particular case, we will use the same 4 sets of binary data to train the perceptron. We call this `epoch`.\n",
    "\n",
    "For the OR case:\n",
    "\n",
    "|inputs||target|\n",
    "|------||------|\n",
    "|0 | 0 |      0|\n",
    "|0 | 1 |      1|\n",
    "|1 | 0 |      1|\n",
    "|1 | 1 |      1|\n",
    "\n",
    "For the AND case:\n",
    "\n",
    "|inputs||target|\n",
    "|------||------|\n",
    "|0 | 0 |      0|\n",
    "|0 | 1 |      0|\n",
    "|1 | 0 |      0|\n",
    "|1 | 1 |      1|\n",
    "\n",
    "And for the XOR case:\n",
    "\n",
    "|inputs||target|\n",
    "|------||------|\n",
    "|0 | 0 |      0|\n",
    "|0 | 1 |      1|\n",
    "|1 | 0 |      1|\n",
    "|1 | 1 |      0|\n",
    "\n",
    "The perceptron will have two inputs $ x_0 $ and $ x_1 $ and an extra \"bias\" input $ x_2 = 1 $. There will be three weights $ w_0, w_1, w_2 $ and an output $ y $.\n",
    "\n",
    "The inputs, outputs and bias are related by the relation:\n",
    "\n",
    "$$ y = \\mathbf{Wx}^\\text{T} $$\n",
    "\n",
    "where $ \\mathbf{W} = [w_0, w_1, w_2] $ and $ \\mathbf{x} = [x_0, x_1, x_2] $\n",
    "\n",
    "This relation is derived from the following figure:\n",
    "\n",
    "<img src=\"perceptron.png\" />\n",
    "\n",
    "Explicitly:\n",
    "\n",
    "$$ y = w_0 \\cdot x_0 + w_1 \\cdot x_1 + w_2 \\cdot x_2 $$\n",
    "\n",
    "This particular perceptron does not have a threshold unit. We will add a threshold unit to the output defined as:\n",
    "\n",
    "$$\n",
    "\\text{sgn}(x) = \\cases{\n",
    "    -1, & if $x\\lt0$\\cr\n",
    "    1, & if $x\\gt0$ \\cr\n",
    "} = \\frac{x}{|x|}\n",
    "$$\n",
    "\n",
    "We break the process into two steps: training and prediction. In the training phase we show the perceptron example data and expected outputs and let it adjust its weights. In the prediction phase we validate whether the perceptron was able to successfully classify the data. \n",
    "\n",
    "The weights and biases form a plane in 3-dimensional space that bisects the 2d plane. The weights $ w_0 $ and $ w_1 $ define the normal of the plane (and thus its orientation) while the weight $ w_2 $ defines its translation from the origin."
   ]
  },
  {
   "cell_type": "code",
   "execution_count": 1,
   "metadata": {},
   "outputs": [],
   "source": [
    "# import python packages\n",
    "\n",
    "%matplotlib inline\n",
    "\n",
    "from pylab import * # for plotting\n",
    "from numpy import * # for matrix and numerical libraries"
   ]
  },
  {
   "cell_type": "markdown",
   "metadata": {},
   "source": [
    "## Training\n",
    "\n",
    "We will first implement the training step of the perceptron. The training step will accept the following parameters:\n",
    "\n",
    "```\n",
    "inputs (x) : the input patterns (a 2xn matrix containing n examples)\n",
    "targets (t) : the target patterns (a 1xn vector)\n",
    "learningRate (eta) : the step size of the gradient descent\n",
    "epochs : number of times the input and target will be trained\n",
    "```"
   ]
  },
  {
   "cell_type": "markdown",
   "metadata": {},
   "source": [
    "### Perceptron learning\n",
    "\n",
    "As stated earlier, the network learns by adjusting its weights. We need a strategy to update these weights. The simple strategy is to perform a forward pass\n",
    "\n",
    "$$ y = \\text{sgn}(\\mathbf{Wx}^T) $$\n",
    "\n",
    "and compute the error\n",
    "\n",
    "$$ e = y - t $$\n",
    "\n",
    "(where t is the target pattern) and calculating\n",
    "\n",
    "$$ \\Delta W = \\eta \\mathbf{x} e $$.\n",
    "\n",
    "We can then update the weights with:\n",
    "\n",
    "$$ \\mathbf{W} = \\mathbf{W} + \\Delta W $$\n",
    "\n",
    "This is called perceptron learning.\n",
    "\n",
    "Let us create a simple training function."
   ]
  },
  {
   "cell_type": "code",
   "execution_count": 2,
   "metadata": {},
   "outputs": [],
   "source": [
    "def train_pl(inputs, targets, eta=0.01, epochs=200):\n",
    "    bias = ones((1, inputs.shape[1])) # create a 1xn vector of 1s as our bias\n",
    "    X = vstack((inputs, bias)) # add bias to the inputs, resulting in a 3xn matrix\n",
    "    \n",
    "    weights = random.randn(1, X.shape[0]) # create a 1x3 vector of random weights\n",
    "    error = zeros(epochs) # create a vector to store error computed at each epoch\n",
    "    \n",
    "    for i in range(epochs):\n",
    "        err = (sign(weights * X) - targets)\n",
    "        deltaW = -eta * err * X.T\n",
    "        weights = weights + deltaW # update weights\n",
    "        error[i] = mean(power(err, 2)) # calculate mean square error for each epoch\n",
    "    \n",
    "    return weights, error"
   ]
  },
  {
   "cell_type": "markdown",
   "metadata": {},
   "source": [
    "The training function takes inputs and targets and returns weights of the trained network. It also returns an error so that we can observe the evolution of the network. Let us run it with a OR dataset, note that we replace 0 with a -1 because we want to make the inputs and targets symmetric (to prevent premature termination of learning).\n",
    "\n",
    "Let us define a function that makes our binary values symmetric."
   ]
  },
  {
   "cell_type": "code",
   "execution_count": 3,
   "metadata": {},
   "outputs": [
    {
     "name": "stdout",
     "output_type": "stream",
     "text": [
      "[[-1.  1. -1.  1.]\n",
      " [-1. -1.  1.  1.]]\n",
      "[[-1.  1.  1.  1.]]\n"
     ]
    }
   ],
   "source": [
    "def symmetric(v):\n",
    "    \"\"\"\n",
    "        if v = 0:\n",
    "            2 * (0 - 0.5) = 2 * (-0.5) = -1\n",
    "        if v = 1\n",
    "            2 * (1 - 0.5) = 2 * (0.5) = 1\n",
    "    \"\"\"\n",
    "    return 2 * (v - 0.5)\n",
    "\n",
    "OR_X = symmetric(matrix(\"\"\"\n",
    "0 1 0 1;\n",
    "0 0 1 1\n",
    "\"\"\"))\n",
    "\n",
    "OR_T = symmetric(matrix(\"\"\"\n",
    "0 1 1 1\n",
    "\"\"\"))\n",
    "\n",
    "print(OR_X)\n",
    "print(OR_T)"
   ]
  },
  {
   "cell_type": "markdown",
   "metadata": {},
   "source": [
    "We are now ready to train our simple perceptron for the OR dataset."
   ]
  },
  {
   "cell_type": "code",
   "execution_count": 4,
   "metadata": {},
   "outputs": [
    {
     "data": {
      "text/plain": [
       "Text(0.5,1,'MSE when training with pereptron learning')"
      ]
     },
     "execution_count": 4,
     "metadata": {},
     "output_type": "execute_result"
    },
    {
     "data": {
      "image/png": "[encoded data removed]",
      "text/plain": [
       "<matplotlib.figure.Figure at 0x7f56e2e4c0b8>"
      ]
     },
     "metadata": {},
     "output_type": "display_data"
    }
   ],
   "source": [
    "W, err = train_pl(OR_X, OR_T, eta=0.01, epochs=100) # perform training\n",
    "\n",
    "# plot error\n",
    "figure()\n",
    "plot(err)\n",
    "xlabel('epoch')\n",
    "ylabel('mean square error')\n",
    "title('MSE when training with pereptron learning')\n"
   ]
  },
  {
   "cell_type": "markdown",
   "metadata": {},
   "source": [
    "Hmm ... we can see the the network was able to classify successfully. But the curve looks really strange, it is difficult to see how the network has drawn the decision boundary (the plane in 3-d space) from this view. A better way is to rearrange our output equation so that we can see the decision boundary in a more clear way.\n",
    "\n",
    "Given that we have:\n",
    "\n",
    "$$\n",
    "\\begin{align}\n",
    "y & = w_0 x_0 + w_1 x_1 + w_2 x_2 \\\\\\\\\n",
    "& = w_0 x_0 + w_1 x_1 + w_2 \\ \\text{(since $ x_2 = 1 $)}\n",
    "\\end{align}\n",
    "$$\n",
    "\n",
    "The definition of a plane is:\n",
    "\n",
    "$$\n",
    "0 = ax + by + c\n",
    "$$\n",
    "\n",
    "Where a, b and c are the normals of the plane. Since we want to find the plane defined by the weight matrices, we set $ y = 0 $.\n",
    "\n",
    "Let us rearrange the equation in terms of $ x_0 $ (the decision is arbitrary, we could have chosen $ x_1 $ as well).\n",
    "\n",
    "$$\n",
    "\\begin{align}\n",
    "0 & = w_0 x_0 + w_1 x_1 + w_2 \\\\\\\\\n",
    "w_0 x_0 + w_1 x_1 & = -w_2 \\\\\\\\\n",
    "w_0 x_0 & = -w_1 x_1 - w_2 \\\\\\\\\n",
    "x_0 & = -\\frac{w_1}{w_0} x_1 - \\frac{w_2}{w_0} \\\\\\\\\n",
    "x_0 & = m x + b\n",
    "\\end{align}\n",
    "$$\n",
    "\n",
    "In order to draw the decision boundary we need to first plot our data points."
   ]
  },
  {
   "cell_type": "code",
   "execution_count": 5,
   "metadata": {},
   "outputs": [
    {
     "data": {
      "image/png": "[encoded data removed]",
      "text/plain": [
       "<matplotlib.figure.Figure at 0x7f56e0e0aac8>"
      ]
     },
     "metadata": {},
     "output_type": "display_data"
    }
   ],
   "source": [
    "pos = OR_X[:,where(OR_T > 0)[1]] # find points where T > 0\n",
    "neg = OR_X[:,where(OR_T < 0)[1]] # find points where T < 0\n",
    "\n",
    "figure()\n",
    "scatter([pos[0,:]], [pos[1,:]], marker='o', c='g') # plot positive points with a green circle\n",
    "scatter([neg[0,:]], [neg[1,:]], marker='x', c='r') # plot negative points with a red cross\n",
    "xlim([-2, 2])\n",
    "ylim([-2, 2])\n",
    "grid()"
   ]
  },
  {
   "cell_type": "markdown",
   "metadata": {},
   "source": [
    "Now we can calculate the decision boundary using the weights and plot it on top of our plot to get a better understanding of how the training went."
   ]
  },
  {
   "cell_type": "code",
   "execution_count": 6,
   "metadata": {},
   "outputs": [
    {
     "data": {
      "image/png": "[encoded data removed]",
      "text/plain": [
       "<matplotlib.figure.Figure at 0x7f56e0e0acf8>"
      ]
     },
     "metadata": {},
     "output_type": "display_data"
    }
   ],
   "source": [
    "x = linspace(-2, 2, 2) # generate two values between -2 and 2\n",
    "boundary = -(W[0,1] / W[0,0]) * x - (W[0,2] / W[0,0]) # calculate the decision boundary\n",
    "\n",
    "figure()\n",
    "scatter([pos[0,:]], [pos[1,:]], marker='o', c='g') # plot positive points with a green circle\n",
    "scatter([neg[0,:]], [neg[1,:]], marker='x', c='r') # plot negative points with a red cross\n",
    "plot(x, boundary)\n",
    "xlim([-2, 2])\n",
    "ylim([-2, 2])\n",
    "grid()"
   ]
  },
  {
   "cell_type": "markdown",
   "metadata": {},
   "source": [
    "It is now much easier to see the decision boundary. However, it is quite clear that this is not the optimal decision boundary and it looks as if the network stopped learning a bit early as the line is closer to the (1,-1) point than the (-1, 1) point. We know it is not an issue of not enough epochs because the MSE graph shows that the error converged to 0.\n",
    "\n",
    "We need a better solution."
   ]
  },
  {
   "cell_type": "markdown",
   "metadata": {},
   "source": [
    "### Delta Rule (Widrow-Hoff rule)\n",
    "\n",
    "When using perceptron learning we calculated the error by comparing the thresholded output to the targets. A better strategy is to use the unthresholded output to the target as this allows a much better estimate of the error surface allowing us to find the optimal decision boundary for the single-perceptron case.\n",
    "\n",
    "We change the error function from:\n",
    "\n",
    "$$\n",
    "e = \\text{sgn}(\\mathbf{Wx}^T) - t\n",
    "$$\n",
    "\n",
    "to:\n",
    "\n",
    "$$\n",
    "e = \\mathbf{Wx}^T - t\n",
    "$$\n",
    "\n",
    "This requires only a single change in our training function."
   ]
  },
  {
   "cell_type": "code",
   "execution_count": 7,
   "metadata": {},
   "outputs": [],
   "source": [
    "def train_dr(inputs, targets, eta=0.01, epochs=200):\n",
    "    bias = ones((1, inputs.shape[1])) # create a 1xn vector of 1s as our bias\n",
    "    X = vstack((inputs, bias)) # add bias to the inputs, resulting in a 3xn matrix\n",
    "    \n",
    "    weights = random.randn(1, X.shape[0]) # create a 1x3 vector of random weights\n",
    "    error = zeros(epochs) # create a vector to store error computed at each epoch\n",
    "    \n",
    "    for i in range(epochs):\n",
    "        err = ((weights * X) - targets) # NOTE CHANGE HERE!!\n",
    "        deltaW = -eta * err * X.T\n",
    "        weights = weights + deltaW # update weights\n",
    "        error[i] = mean(power(err, 2)) # calculate mean square error for each epoch\n",
    "    \n",
    "    return weights, error"
   ]
  },
  {
   "cell_type": "markdown",
   "metadata": {},
   "source": [
    "Training and plotting the decision boundary and error curve:"
   ]
  },
  {
   "cell_type": "code",
   "execution_count": 8,
   "metadata": {},
   "outputs": [
    {
     "data": {
      "text/plain": [
       "Text(0.5,1,'MSE when training with delta rule')"
      ]
     },
     "execution_count": 8,
     "metadata": {},
     "output_type": "execute_result"
    },
    {
     "data": {
      "image/png": "[encoded data removed]",
      "text/plain": [
       "<matplotlib.figure.Figure at 0x7f56e0d40c18>"
      ]
     },
     "metadata": {},
     "output_type": "display_data"
    }
   ],
   "source": [
    "W, err = train_dr(OR_X, OR_T, eta=0.01, epochs=100) # perform training\n",
    "\n",
    "# plot error\n",
    "figure()\n",
    "plot(err)\n",
    "xlabel('epoch')\n",
    "ylabel('mean square error')\n",
    "title('MSE when training with delta rule')"
   ]
  },
  {
   "cell_type": "markdown",
   "metadata": {},
   "source": [
    "We see that the error curve is much smoother because we are not thresholding the output."
   ]
  },
  {
   "cell_type": "code",
   "execution_count": 9,
   "metadata": {},
   "outputs": [
    {
     "data": {
      "image/png": "[encoded data removed]",
      "text/plain": [
       "<matplotlib.figure.Figure at 0x7f56e0d21e10>"
      ]
     },
     "metadata": {},
     "output_type": "display_data"
    }
   ],
   "source": [
    "x = linspace(-2, 2, 2) # generate two values between -2 and 2\n",
    "boundary = -(W[0,1] / W[0,0]) * x - (W[0,2] / W[0,0]) # calculate the decision boundary\n",
    "\n",
    "figure()\n",
    "scatter([pos[0,:]], [pos[1,:]], marker='o', c='g') # plot positive points with a green circle\n",
    "scatter([neg[0,:]], [neg[1,:]], marker='x', c='r') # plot negative points with a red cross\n",
    "plot(x, boundary)\n",
    "xlim([-2, 2])\n",
    "ylim([-2, 2])\n",
    "grid()"
   ]
  },
  {
   "cell_type": "markdown",
   "metadata": {},
   "source": [
    "The decision boundary separates the two datasets well. Let us now use the network to classify the AND function."
   ]
  },
  {
   "cell_type": "code",
   "execution_count": 10,
   "metadata": {},
   "outputs": [
    {
     "name": "stdout",
     "output_type": "stream",
     "text": [
      "[[-1.  1. -1.  1.]\n",
      " [-1. -1.  1.  1.]]\n",
      "[[-1. -1. -1.  1.]]\n"
     ]
    }
   ],
   "source": [
    "AND_X = symmetric(matrix(\"\"\"\n",
    "0 1 0 1;\n",
    "0 0 1 1\n",
    "\"\"\"))\n",
    "\n",
    "AND_T = symmetric(matrix(\"\"\"\n",
    "0 0 0 1\n",
    "\"\"\"))\n",
    "\n",
    "pos = AND_X[:,where(AND_T > 0)[1]] # find points where T > 0\n",
    "neg = AND_X[:,where(AND_T < 0)[1]] # find points where T < 0\n",
    "\n",
    "print(AND_X)\n",
    "print(AND_T)"
   ]
  },
  {
   "cell_type": "code",
   "execution_count": 11,
   "metadata": {},
   "outputs": [
    {
     "data": {
      "image/png": "[encoded data removed]",
      "text/plain": [
       "<matplotlib.figure.Figure at 0x7f56e0d75c18>"
      ]
     },
     "metadata": {},
     "output_type": "display_data"
    }
   ],
   "source": [
    "W, err = train_dr(AND_X, AND_T, eta=0.01, epochs=100) # perform training\n",
    "\n",
    "x = linspace(-2, 2, 2) # generate two values between -2 and 2\n",
    "boundary = -(W[0,1] / W[0,0]) * x - (W[0,2] / W[0,0]) # calculate the decision boundary\n",
    "\n",
    "# plot error\n",
    "subplot(2, 1, 1)\n",
    "plot(err)\n",
    "xlabel('epoch')\n",
    "ylabel('mean square error')\n",
    "title('MSE when training with delta rule')\n",
    "\n",
    "subplot(2, 1, 2)\n",
    "scatter([pos[0,:]], [pos[1,:]], marker='o', c='g') # plot positive points with a green circle\n",
    "scatter([neg[0,:]], [neg[1,:]], marker='x', c='r') # plot negative points with a red cross\n",
    "plot(x, boundary)\n",
    "xlim([-2, 2])\n",
    "ylim([-2, 2])\n",
    "grid()"
   ]
  },
  {
   "cell_type": "markdown",
   "metadata": {},
   "source": [
    "# Assignment Part I\n",
    "\n",
    "## Classification with single-layer perceptron\n",
    "\n",
    "### Generate linearly separable data\n",
    "\n",
    "We can generate a sample of normally distributed multivariate data centered at `mu` and with covariance `cov` using the following functions. "
   ]
  },
  {
   "cell_type": "code",
   "execution_count": 12,
   "metadata": {},
   "outputs": [
    {
     "data": {
      "text/plain": [
       "<matplotlib.collections.PathCollection at 0x7f56e0c0d198>"
      ]
     },
     "execution_count": 12,
     "metadata": {},
     "output_type": "execute_result"
    },
    {
     "data": {
      "image/png": "[encoded data removed]",
      "text/plain": [
       "<matplotlib.figure.Figure at 0x7f56e0d1b588>"
      ]
     },
     "metadata": {},
     "output_type": "display_data"
    }
   ],
   "source": [
    "mu = [0, 0]\n",
    "cov = [[1, 0], [0, 100]]\n",
    "x, y = random.multivariate_normal(mu, cov, 100).T\n",
    "scatter(x, y)"
   ]
  },
  {
   "cell_type": "markdown",
   "metadata": {},
   "source": [
    "Let us package it into a function so that we can generate labels and data."
   ]
  },
  {
   "cell_type": "code",
   "execution_count": 44,
   "metadata": {},
   "outputs": [
    {
     "data": {
      "text/plain": [
       "(-40, 40)"
      ]
     },
     "execution_count": 44,
     "metadata": {},
     "output_type": "execute_result"
    },
    {
     "data": {
      "image/png": "[encoded data removed]",
      "text/plain": [
       "<matplotlib.figure.Figure at 0x7f56e08c4780>"
      ]
     },
     "metadata": {},
     "output_type": "display_data"
    }
   ],
   "source": [
    "def gen_data(mu, label, n=100):\n",
    "    v = random.randint(0, 10, size=(2,2))\n",
    "    cov = dot(v, v.T)*0.1\n",
    "    data = random.multivariate_normal(mu, cov, n).T\n",
    "    labels = label * ones((1, n))\n",
    "    return vstack((data, labels))\n",
    "\n",
    "data = hstack((gen_data(random.randint(0, 20, size=2), 0), gen_data(random.randint(-30, 0, size=2), 1)))\n",
    "colors = ['red', 'green']\n",
    "random.shuffle(data.T)\n",
    "scatter(data[0,:], data[1,:], c=data[2,:], cmap=matplotlib.colors.ListedColormap(colors))\n",
    "xlim([-40, 40])\n",
    "ylim([-40, 40])"
   ]
  },
  {
   "cell_type": "markdown",
   "metadata": {},
   "source": [
    "Let us implement sequential learning for both delta and perceptron learning. Instead of creating new functions, let us define a function `train` that takes different parameters.\n",
    "\n",
    "Our `train` function should take the following parameters:\n",
    "\n",
    "```\n",
    "inputs : the inputs to train\n",
    "targets : the targets we are trying to match\n",
    "eta : the learning rate\n",
    "activation : the activation function (such as sgn)\n",
    "batch : whether to train in batch mode or not\n",
    "```"
   ]
  },
  {
   "cell_type": "code",
   "execution_count": 173,
   "metadata": {},
   "outputs": [
    {
     "name": "stdout",
     "output_type": "stream",
     "text": [
      "[[  6.94912447e+53   9.08432991e+53  -3.18570123e+53  -2.24750227e+53\n",
      "   -2.06155508e+53  -1.72286020e+53   9.07940519e+53   1.06433012e+54\n",
      "   -2.60759965e+53   9.81879063e+53   9.24451918e+53  -1.74867959e+53\n",
      "   -1.33479415e+53   8.85327646e+53  -2.36526179e+53  -4.17850751e+52\n",
      "    9.29635072e+53  -2.11607498e+53   1.01631924e+54   1.08696194e+54\n",
      "   -2.10908480e+53  -1.77248169e+53  -1.66781243e+53  -2.90457113e+53\n",
      "    8.97996986e+53   1.01658992e+54  -2.02597906e+53   8.28357561e+53\n",
      "   -3.25807424e+53   1.01419303e+54  -1.97651030e+53   9.10570198e+53\n",
      "   -1.20284440e+53   8.94219865e+53  -2.09307174e+53  -1.68068987e+53\n",
      "    1.01626392e+54  -2.30015542e+53  -2.18145123e+53   9.57017024e+53\n",
      "    9.78220633e+53  -2.04703033e+53   9.30788515e+53   9.23933620e+53\n",
      "   -1.68842519e+53   9.78219084e+53   8.34111260e+53   9.18588445e+53\n",
      "    9.42450900e+53  -1.97871636e+53   9.16536142e+53   1.02054261e+54\n",
      "   -1.79630363e+53  -2.49179104e+53   9.44103313e+53  -2.84502475e+53\n",
      "    9.40041207e+53   8.20923937e+53  -1.88619865e+53  -2.16228132e+53\n",
      "   -1.56149671e+53   9.31412961e+53   9.48806205e+53   7.95042638e+53\n",
      "    9.18339459e+53  -2.47317077e+53   9.07802757e+53  -2.26200894e+53\n",
      "    9.10970182e+53  -2.18735036e+53  -1.86407050e+53  -1.92223622e+53\n",
      "   -8.95861976e+52  -3.84901774e+53  -2.20303787e+53   9.35519619e+53\n",
      "    8.28828999e+53  -1.61114799e+53   8.40033493e+53   9.01185317e+53\n",
      "    1.03165895e+54  -2.35777374e+53  -3.16746744e+53  -1.66355254e+53\n",
      "   -2.23223438e+53  -2.29770447e+53   9.84190136e+53   1.04626388e+54\n",
      "   -1.85192034e+53   1.01647355e+54  -1.77293589e+53   9.15807888e+53\n",
      "    9.28827279e+53  -2.03364534e+53   8.25986277e+53  -1.27104633e+53\n",
      "    7.78262054e+53  -2.18414207e+53   9.53959697e+53   1.04517886e+54\n",
      "   -2.56301801e+53   9.84135541e+53   8.49798612e+53   9.19943876e+53\n",
      "   -2.20135675e+53  -2.29906829e+53  -2.89942524e+53   9.54361220e+53\n",
      "    1.07512397e+54  -2.09564843e+53   8.67023751e+53  -2.45554486e+53\n",
      "    1.01318045e+54  -1.70900600e+53   9.40431979e+53   9.06672925e+53\n",
      "    1.08877829e+54  -1.62007630e+53  -2.33838090e+53  -2.07147790e+53\n",
      "    9.32437767e+53  -2.75479069e+53  -1.72312831e+53   1.01573354e+54\n",
      "   -1.91001429e+53   8.74932887e+53  -1.73768326e+53   9.23033929e+53\n",
      "   -2.76002730e+53   1.00741217e+54   9.12173836e+53   1.09998587e+54\n",
      "   -1.20015232e+53   1.03504611e+54  -2.19878721e+53  -1.67135483e+53\n",
      "   -1.95059373e+53   8.22341579e+53   9.34496557e+53  -2.39461666e+53\n",
      "   -1.24609007e+53   1.06119219e+54   9.59555494e+53  -2.28000137e+53\n",
      "    7.78059490e+53  -2.58826096e+53   1.00178306e+54  -2.20862458e+53\n",
      "   -2.44392448e+53   8.06450201e+53   9.70191994e+53  -2.16599625e+53\n",
      "    9.17284200e+53   9.17389610e+53  -2.81225338e+53  -1.78211753e+53\n",
      "    1.00014827e+54  -3.03126817e+53   9.21666142e+53   9.52752998e+53\n",
      "   -1.25449488e+53   8.21286470e+53  -2.04835162e+53   1.08115613e+54\n",
      "    1.10499787e+54  -1.85209937e+53  -1.32688510e+53   8.69489979e+53\n",
      "   -2.19872210e+53  -1.83903946e+53   9.78572280e+53   8.00996745e+53\n",
      "    7.84775969e+53  -2.14485438e+53  -1.62816263e+53   9.74956268e+53\n",
      "    8.61148032e+53  -2.10812473e+53  -3.25426177e+53   1.08966403e+54\n",
      "   -2.17599983e+53   8.67617016e+53  -2.32886319e+53   9.42577314e+53\n",
      "    9.38092733e+53  -1.48127607e+53  -1.78634383e+53  -1.47451817e+53\n",
      "    8.90321800e+53   8.42405054e+53   9.32726040e+53  -2.23819240e+53\n",
      "   -1.86995071e+53  -2.01521109e+53  -2.54049557e+53   9.39808042e+53\n",
      "    9.74864452e+53   9.82579236e+53  -1.73600693e+53  -1.74559592e+53]]\n",
      "[[ -5.18886513e+107  -6.78320886e+107   2.37874197e+107   1.67819503e+107\n",
      "    1.53934950e+107   1.28644828e+107  -6.77953160e+107  -7.94728235e+107\n",
      "    1.94707735e+107  -7.33162580e+107  -6.90282112e+107   1.30572744e+107\n",
      "    9.96681933e+106  -6.61068278e+107   1.76612528e+107   3.12006383e+106\n",
      "   -6.94152339e+107   1.58005914e+107  -7.58878835e+107  -8.11627265e+107\n",
      "    1.57483962e+107   1.32350031e+107   1.24534447e+107   2.16882399e+107\n",
      "   -6.70528390e+107  -7.59080947e+107   1.51278512e+107  -6.18529094e+107\n",
      "    2.43278242e+107  -7.57291206e+107   1.47584713e+107  -6.79916724e+107\n",
      "    8.98155934e+106  -6.67708039e+107   1.56288278e+107   1.25495997e+107\n",
      "   -7.58837523e+107   1.71751079e+107   1.62887516e+107  -7.14598261e+107\n",
      "   -7.30430855e+107   1.52850396e+107  -6.95013607e+107  -6.89895103e+107\n",
      "    1.26073588e+107  -7.30429699e+107  -6.22825342e+107  -6.85903896e+107\n",
      "   -7.03721833e+107   1.47749437e+107  -6.84371455e+107  -7.62032393e+107\n",
      "    1.34128800e+107   1.86060384e+107  -7.04955679e+107   2.12436110e+107\n",
      "   -7.01922531e+107  -6.12978456e+107   1.40841201e+107   1.61456112e+107\n",
      "    1.16595923e+107  -6.95479877e+107  -7.08467297e+107  -5.93653062e+107\n",
      "   -6.85717980e+107   1.84670020e+107  -6.77850294e+107   1.68902707e+107\n",
      "   -6.80215390e+107   1.63328000e+107   1.39188907e+107   1.43532103e+107\n",
      "    6.68934192e+106   2.87403600e+107   1.64499376e+107  -6.98546291e+107\n",
      "   -6.18881113e+107   1.20303351e+107  -6.27247435e+107  -6.72909096e+107\n",
      "   -7.70332893e+107   1.76053400e+107   2.36512692e+107   1.24216364e+107\n",
      "    1.66679460e+107   1.71568068e+107  -7.34888244e+107  -7.81238294e+107\n",
      "    1.38281663e+107  -7.58994056e+107   1.32383947e+107  -6.83827673e+107\n",
      "   -6.93549166e+107   1.51850948e+107  -6.16758472e+107   9.49081863e+106\n",
      "   -5.81123111e+107   1.63088439e+107  -7.12315375e+107  -7.80428119e+107\n",
      "    1.91378854e+107  -7.34847478e+107  -6.34538984e+107  -6.86915987e+107\n",
      "    1.64373848e+107   1.71669904e+107   2.16498159e+107  -7.12615189e+107\n",
      "   -8.02787937e+107   1.56480678e+107  -6.47400881e+107   1.83353906e+107\n",
      "   -7.56535121e+107   1.27610344e+107  -7.02214318e+107  -6.77006656e+107\n",
      "   -8.12983526e+107   1.20970022e+107   1.74605350e+107   1.54675880e+107\n",
      "   -6.96245093e+107   2.05698392e+107   1.28664847e+107  -7.58441494e+107\n",
      "    1.42619500e+107  -6.53306580e+107   1.29751656e+107  -6.89223309e+107\n",
      "    2.06089407e+107  -7.52227985e+107  -6.81114150e+107  -8.21352151e+107\n",
      "    8.96145775e+106  -7.72862064e+107   1.64181982e+107   1.24798956e+107\n",
      "    1.45649540e+107  -6.14037000e+107  -6.97782378e+107   1.78804437e+107\n",
      "    9.30447188e+106  -7.92385168e+107  -7.16493719e+107   1.70246189e+107\n",
      "   -5.80971858e+107   1.93263728e+107  -7.48024765e+107   1.64916532e+107\n",
      "    1.82486219e+107  -6.02171013e+107  -7.24435924e+107   1.61733503e+107\n",
      "   -6.84930025e+107  -6.85008734e+107   2.09989094e+107   1.33069533e+107\n",
      "   -7.46804078e+107   2.26342783e+107  -6.88201992e+107  -7.11414341e+107\n",
      "    9.36723000e+106  -6.13249157e+107   1.52949056e+107  -8.07292106e+107\n",
      "   -8.25094580e+107   1.38295031e+107   9.90776299e+106  -6.49242398e+107\n",
      "    1.64177120e+107   1.37319856e+107  -7.30693427e+107  -5.98098954e+107\n",
      "   -5.85987008e+107   1.60154853e+107   1.21573823e+107  -7.27993376e+107\n",
      "   -6.43013521e+107   1.57412275e+107   2.42993567e+107  -8.13644901e+107\n",
      "    1.62480464e+107  -6.47843868e+107   1.73894669e+107  -7.03816225e+107\n",
      "   -7.00467618e+107   1.10605901e+107   1.33385108e+107   1.10101293e+107\n",
      "   -6.64797380e+107  -6.29018264e+107  -6.96460345e+107   1.67124342e+107\n",
      "    1.39627978e+107   1.50474475e+107   1.89697118e+107  -7.01748428e+107\n",
      "   -7.27924817e+107  -7.33685395e+107   1.29626486e+107   1.30342489e+107]]\n",
      "[[  3.87449116e+161   5.06497704e+161  -1.77619084e+161  -1.25309709e+161\n",
      "   -1.14942205e+161  -9.60582391e+160   5.06223126e+161   5.93418299e+161\n",
      "   -1.45386974e+161   5.47447633e+161   5.15429072e+161  -9.74978018e+160\n",
      "   -7.44215785e+160   4.93615296e+161  -1.31875403e+161  -2.32973096e+160\n",
      "    5.18318945e+161  -1.17981968e+161   5.66649790e+161   6.06036693e+161\n",
      "   -1.17592229e+161  -9.88248901e+160  -9.29890452e+160  -1.61944648e+161\n",
      "    5.00679099e+161   5.66800706e+161  -1.12958661e+161   4.61851570e+161\n",
      "   -1.81654249e+161   5.65464318e+161  -1.10200525e+161   5.07689306e+161\n",
      "   -6.70647075e+160   4.98573162e+161  -1.16699420e+161  -9.37070284e+160\n",
      "    5.66618943e+161  -1.28245391e+161  -1.21627027e+161   5.33585779e+161\n",
      "    5.45407872e+161  -1.14132377e+161   5.18962048e+161   5.15140095e+161\n",
      "   -9.41383119e+160   5.45407009e+161   4.65059550e+161   5.12159887e+161\n",
      "    5.25464422e+161  -1.10323524e+161   5.11015624e+161   5.69004531e+161\n",
      "   -1.00153085e+161  -1.38930054e+161   5.26385727e+161  -1.58624634e+161\n",
      "    5.24120896e+161   4.57706945e+161  -1.05165190e+161  -1.20558207e+161\n",
      "   -8.70614019e+160   5.19310209e+161   5.29007829e+161   4.43276802e+161\n",
      "    5.12021065e+161  -1.37891879e+161   5.06146316e+161  -1.26118530e+161\n",
      "    5.07912318e+161  -1.21955933e+161  -1.03931433e+161  -1.07174469e+161\n",
      "   -4.99488722e+160  -2.14602361e+161  -1.22830592e+161   5.21599880e+161\n",
      "    4.62114420e+161  -8.98297141e+160   4.68361497e+161   5.02456756e+161\n",
      "    5.75202459e+161  -1.31457906e+161  -1.76602458e+161  -9.27515347e+160\n",
      "   -1.24458447e+161  -1.28108738e+161   5.48736175e+161   5.83345450e+161\n",
      "   -1.03254000e+161   5.66735825e+161  -9.88502143e+160   5.10609585e+161\n",
      "    5.17868559e+161  -1.13386095e+161   4.60529458e+161  -7.08673129e+160\n",
      "    4.33920770e+161  -1.21777055e+161   5.31881164e+161   5.82740498e+161\n",
      "   -1.42901320e+161   5.48705735e+161   4.73806048e+161   5.12915609e+161\n",
      "   -1.22736862e+161  -1.28184778e+161  -1.61657738e+161   5.32105033e+161\n",
      "    5.99436425e+161  -1.16843083e+161   4.83409942e+161  -1.36909144e+161\n",
      "    5.64899754e+161  -9.52857968e+160   5.24338771e+161   5.05516377e+161\n",
      "    6.07049404e+161  -9.03275130e+160  -1.30376656e+161  -1.15495453e+161\n",
      "    5.19881591e+161  -1.53593625e+161  -9.60731875e+160   5.66323231e+161\n",
      "   -1.06493034e+161   4.87819688e+161  -9.68847005e+160   5.14638471e+161\n",
      "   -1.53885593e+161   5.61683645e+161   5.08583416e+161   6.13298201e+161\n",
      "   -6.69146103e+160   5.77090975e+161  -1.22593597e+161  -9.31865523e+160\n",
      "   -1.08755545e+161   4.58497353e+161   5.21029471e+161  -1.33512087e+161\n",
      "   -6.94758741e+160   5.91668747e+161   5.35001106e+161  -1.27121700e+161\n",
      "    4.33807831e+161  -1.44308743e+161   5.58545128e+161  -1.23142080e+161\n",
      "   -1.36261249e+161   4.49637099e+161   5.40931497e+161  -1.20765333e+161\n",
      "    5.11432705e+161   5.11491476e+161  -1.56797463e+161  -9.93621375e+160\n",
      "    5.57633649e+161  -1.69008654e+161   5.13875860e+161   5.31208367e+161\n",
      "   -6.99444848e+160   4.57909076e+161  -1.14206045e+161   6.02799658e+161\n",
      "    6.16092647e+161  -1.03263982e+161  -7.39806088e+160   4.84784990e+161\n",
      "   -1.22589966e+161  -1.02535825e+161   5.45603933e+161   4.46596520e+161\n",
      "    4.37552610e+161  -1.19586566e+161  -9.07783670e+160   5.43587822e+161\n",
      "    4.80133929e+161  -1.17538701e+161  -1.81441684e+161   6.07543248e+161\n",
      "   -1.21323084e+161   4.83740717e+161  -1.29845995e+161   5.25534905e+161\n",
      "    5.23034522e+161  -8.25886922e+160  -9.95977753e+160  -8.22119051e+160\n",
      "    4.96399792e+161   4.69683763e+161   5.20042317e+161  -1.24790637e+161\n",
      "   -1.04259285e+161  -1.12358292e+161  -1.41645579e+161   5.23990894e+161\n",
      "    5.43536630e+161   5.47838016e+161  -9.67912367e+160  -9.73258716e+160]]\n",
      "[[ -2.89305683e+215  -3.78198475e+215   1.32626992e+215   9.35679281e+214\n",
      "    8.58265820e+214   7.17260497e+214  -3.77993449e+215  -4.43101506e+215\n",
      "    1.08559489e+215  -4.08775515e+215  -3.84867468e+215   7.28009616e+214\n",
      "    5.55700988e+214  -3.68579266e+215   9.84704881e+214   1.73959465e+214\n",
      "   -3.87025317e+215   8.80963523e+214  -4.23113638e+215  -4.52523577e+215\n",
      "    8.78053373e+214   7.37918897e+214   6.94343030e+214   1.20922994e+215\n",
      "   -3.73853761e+215  -4.23226326e+215   8.43454825e+214  -3.44861502e+215\n",
      "    1.35640022e+215  -4.22228454e+215   8.22860010e+214  -3.79088236e+215\n",
      "    5.00767721e+214  -3.72281271e+215   8.71386822e+214   6.99704162e+214\n",
      "   -4.23090604e+215   9.57599824e+214   9.08180939e+214  -3.98424960e+215\n",
      "   -4.07252439e+215   8.52218882e+214  -3.87505518e+215  -3.84651690e+215\n",
      "    7.02924527e+214  -4.07251794e+215  -3.47256880e+215  -3.82426389e+215\n",
      "   -3.92360797e+215   8.23778435e+214  -3.81571975e+215  -4.24871907e+215\n",
      "    7.47836437e+214   1.03738149e+215  -3.93048729e+215   1.18443961e+215\n",
      "   -3.91357595e+215  -3.41766738e+215   7.85261498e+214   9.00200132e+214\n",
      "    6.50081711e+214  -3.87765487e+215  -3.95006635e+215  -3.30991846e+215\n",
      "   -3.82322732e+215   1.02962951e+215  -3.77936096e+215   9.41718696e+214\n",
      "   -3.79254757e+215   9.10636862e+214   7.76049116e+214   8.00264646e+214\n",
      "    3.72964914e+214   1.60242159e+215   9.17167881e+214  -3.89475169e+215\n",
      "   -3.45057771e+215   6.70752514e+214  -3.49722422e+215  -3.75181126e+215\n",
      "   -4.29499859e+215   9.81587458e+214   1.31867883e+215   6.92569554e+214\n",
      "    9.29322963e+214   9.56579445e+214  -4.09737660e+215  -4.35580176e+215\n",
      "    7.70990765e+214  -4.23177879e+215   7.38107991e+214  -3.81268789e+215\n",
      "   -3.86689017e+215   8.46646449e+214  -3.43874290e+215   5.29161522e+214\n",
      "   -3.24005760e+215   9.09301189e+214  -3.97152135e+215  -4.35128463e+215\n",
      "    1.06703467e+215  -4.09714931e+215  -3.53787832e+215  -3.82990682e+215\n",
      "    9.16468000e+214   9.57147229e+214   1.20708760e+215  -3.97319297e+215\n",
      "   -4.47595201e+215   8.72459550e+214  -3.60958996e+215   1.02229150e+215\n",
      "   -4.21806898e+215   7.11492722e+214  -3.91520281e+215  -3.77465724e+215\n",
      "   -4.53279761e+215   6.74469545e+214   9.73513840e+214   8.62396886e+214\n",
      "   -3.88192134e+215   1.14687340e+215   7.17372115e+214  -4.22869798e+215\n",
      "    7.95176417e+214  -3.64251724e+215   7.23431629e+214  -3.84277131e+215\n",
      "    1.14905351e+215  -4.19405450e+215  -3.79755861e+215  -4.57945697e+215\n",
      "    4.99646955e+214  -4.30910001e+215   9.15398250e+214   6.95817802e+214\n",
      "    8.12070435e+214  -3.42356931e+215  -3.89049248e+215   9.96925890e+214\n",
      "    5.18771741e+214  -4.41795127e+215  -3.99481775e+215   9.49209297e+214\n",
      "   -3.23921428e+215   1.07754381e+215  -4.17061941e+215   9.19493740e+214\n",
      "    1.01745370e+215  -3.35741038e+215  -4.03909959e+215   9.01746728e+214\n",
      "   -3.81883407e+215  -3.81927291e+215   1.17079625e+215   7.41930487e+214\n",
      "   -4.16381345e+215   1.26197640e+215  -3.83707695e+215  -3.96649763e+215\n",
      "    5.22270826e+214  -3.41917668e+215   8.52768961e+214  -4.50106505e+215\n",
      "   -4.60032291e+215   7.71065301e+214   5.52408296e+214  -3.61985735e+215\n",
      "    9.15371143e+214   7.65628203e+214  -4.07398836e+215  -3.33470658e+215\n",
      "   -3.26717630e+215   8.92944953e+214   6.77836042e+214  -4.05893420e+215\n",
      "   -3.58512818e+215   8.77653680e+214   1.35481301e+215  -4.53648512e+215\n",
      "    9.05911416e+214  -3.61205983e+215   9.69551431e+214  -3.92413426e+215\n",
      "   -3.90546407e+215   6.16684284e+214   7.43689978e+214   6.13870839e+214\n",
      "   -3.70658430e+215  -3.50709749e+215  -3.88312147e+215   9.31803404e+214\n",
      "    7.78497161e+214   8.38971907e+214   1.05765814e+215  -3.91260524e+215\n",
      "   -4.05855195e+215  -4.09067011e+215   7.22733741e+214   7.26725824e+214]]\n",
      "[[  2.16022634e+269   2.82398291e+269  -9.90316945e+268  -6.98665510e+268\n",
      "   -6.40861392e+268  -5.35573653e+268   2.82245200e+269   3.30860954e+269\n",
      "   -8.10606496e+268   3.05229964e+269   2.87377984e+269  -5.43599949e+268\n",
      "   -4.14938240e+268   2.75215692e+269  -7.35272600e+268  -1.29894378e+268\n",
      "    2.88989236e+269  -6.57809617e+268   3.15936145e+269   3.37896352e+269\n",
      "   -6.55636627e+268  -5.50999143e+268  -5.18461332e+268  -9.02923971e+268\n",
      "    2.79154122e+269   3.16020289e+269  -6.29802121e+268   2.57505795e+269\n",
      "   -1.01281504e+269   3.15275184e+269  -6.14424109e+268   2.83062670e+269\n",
      "   -3.73919934e+268   2.77979955e+269  -6.50658758e+268  -5.22464455e+268\n",
      "    3.15918947e+269  -7.15033434e+268  -6.78132680e+268   2.97501274e+269\n",
      "    3.04092694e+269  -6.36346184e+268   2.89347798e+269   2.87216865e+269\n",
      "   -5.24869080e+268   3.04092212e+269   2.59294408e+269   2.85555247e+269\n",
      "    2.92973204e+269  -6.15109891e+268   2.84917262e+269   3.17249034e+269\n",
      "   -5.58404505e+268  -7.74605875e+268   2.93486878e+269  -8.84413199e+268\n",
      "    2.92224119e+269   2.55194956e+269  -5.86349550e+268  -6.72173464e+268\n",
      "   -4.85411699e+268   2.89541916e+269   2.94948833e+269   2.47149415e+269\n",
      "    2.85477847e+269  -7.68817521e+268   2.82202375e+269  -7.03175101e+268\n",
      "    2.83187010e+269  -6.79966502e+268  -5.79470725e+268  -5.97552300e+268\n",
      "   -2.78490426e+268  -1.19651757e+269  -6.84843170e+268   2.90818524e+269\n",
      "    2.57652348e+269  -5.00846451e+268   2.61135412e+269   2.80145257e+269\n",
      "    3.20704695e+269  -7.32944841e+268  -9.84648732e+268  -5.17137090e+268\n",
      "   -6.93919289e+268  -7.14271524e+268   3.05948392e+269   3.25244827e+269\n",
      "   -5.75693688e+268   3.15984114e+269  -5.51140338e+268   2.84690874e+269\n",
      "    2.88738123e+269  -6.32185285e+268   2.56768650e+269  -3.95121397e+268\n",
      "    2.41932951e+269  -6.78969164e+268   2.96550864e+269   3.24907535e+269\n",
      "   -7.96747711e+268   3.05931420e+269   2.64171026e+269   2.85976600e+269\n",
      "   -6.84320574e+268  -7.14695484e+268  -9.01324304e+268   2.96675682e+269\n",
      "    3.34216366e+269  -6.51459756e+268   2.69525687e+269  -7.63338276e+268\n",
      "    3.14960411e+269  -5.31266894e+268   2.92345596e+269   2.81851151e+269\n",
      "    3.38460990e+269  -5.03621934e+268  -7.26916324e+268  -6.43946032e+268\n",
      "    2.89860490e+269  -8.56362759e+268  -5.35656998e+268   3.15754072e+269\n",
      "   -5.93752954e+268   2.71984345e+269  -5.40181597e+268   2.86937184e+269\n",
      "   -8.57990629e+268   3.13167266e+269   2.83561182e+269   3.41945013e+269\n",
      "   -3.73083065e+268   3.21757638e+269  -6.83521798e+268  -5.19562535e+268\n",
      "   -6.06367605e+268   2.55635648e+269   2.90500492e+269  -7.44397946e+268\n",
      "   -3.87363417e+268   3.29885489e+269   2.98290391e+269  -7.08768283e+268\n",
      "    2.41869981e+269  -8.04594811e+268   3.11417383e+269  -6.86579874e+268\n",
      "   -7.59725928e+268   2.50695605e+269   3.01596886e+269  -6.73328298e+268\n",
      "    2.85149805e+269   2.85182573e+269  -8.74225790e+268  -5.53994571e+268\n",
      "    3.10909187e+269  -9.42309405e+268   2.86511989e+269   2.96175746e+269\n",
      "   -3.89976160e+268   2.55307654e+269  -6.36756924e+268   3.36091540e+269\n",
      "    3.43503059e+269  -5.75749343e+268  -4.12479609e+268   2.70292346e+269\n",
      "   -6.83501558e+268  -5.71689498e+268   3.04202007e+269   2.49000327e+269\n",
      "    2.43957886e+269  -6.66756071e+268  -5.06135675e+268   3.03077923e+269\n",
      "    2.67699142e+269  -6.55338179e+268  -1.01162988e+269   3.38736333e+269\n",
      "   -6.76438043e+268   2.69710111e+269  -7.23957619e+268   2.93012501e+269\n",
      "    2.91618410e+269  -4.60474062e+268  -5.55308372e+268  -4.58373282e+268\n",
      "    2.76768190e+269   2.61872642e+269   2.89950104e+269  -6.95771418e+268\n",
      "   -5.81298664e+268  -6.26454756e+268  -7.89746314e+268   2.92151636e+269\n",
      "    3.03049381e+269   3.05447622e+269  -5.39660488e+268  -5.42641350e+268]]\n"
     ]
    },
    {
     "name": "stdout",
     "output_type": "stream",
     "text": [
      "[[ nan  nan  nan  nan  nan  nan  nan  nan  nan  nan  nan  nan  nan  nan\n",
      "   nan  nan  nan  nan  nan  nan  nan  nan  nan  nan  nan  nan  nan  nan\n",
      "   nan  nan  nan  nan  nan  nan  nan  nan  nan  nan  nan  nan  nan  nan\n",
      "   nan  nan  nan  nan  nan  nan  nan  nan  nan  nan  nan  nan  nan  nan\n",
      "   nan  nan  nan  nan  nan  nan  nan  nan  nan  nan  nan  nan  nan  nan\n",
      "   nan  nan  nan  nan  nan  nan  nan  nan  nan  nan  nan  nan  nan  nan\n",
      "   nan  nan  nan  nan  nan  nan  nan  nan  nan  nan  nan  nan  nan  nan\n",
      "   nan  nan  nan  nan  nan  nan  nan  nan  nan  nan  nan  nan  nan  nan\n",
      "   nan  nan  nan  nan  nan  nan  nan  nan  nan  nan  nan  nan  nan  nan\n",
      "   nan  nan  nan  nan  nan  nan  nan  nan  nan  nan  nan  nan  nan  nan\n",
      "   nan  nan  nan  nan  nan  nan  nan  nan  nan  nan  nan  nan  nan  nan\n",
      "   nan  nan  nan  nan  nan  nan  nan  nan  nan  nan  nan  nan  nan  nan\n",
      "   nan  nan  nan  nan  nan  nan  nan  nan  nan  nan  nan  nan  nan  nan\n",
      "   nan  nan  nan  nan  nan  nan  nan  nan  nan  nan  nan  nan  nan  nan\n",
      "   nan  nan  nan  nan]]\n",
      "[[ nan  nan  nan  nan  nan  nan  nan  nan  nan  nan  nan  nan  nan  nan\n",
      "   nan  nan  nan  nan  nan  nan  nan  nan  nan  nan  nan  nan  nan  nan\n",
      "   nan  nan  nan  nan  nan  nan  nan  nan  nan  nan  nan  nan  nan  nan\n",
      "   nan  nan  nan  nan  nan  nan  nan  nan  nan  nan  nan  nan  nan  nan\n",
      "   nan  nan  nan  nan  nan  nan  nan  nan  nan  nan  nan  nan  nan  nan\n",
      "   nan  nan  nan  nan  nan  nan  nan  nan  nan  nan  nan  nan  nan  nan\n",
      "   nan  nan  nan  nan  nan  nan  nan  nan  nan  nan  nan  nan  nan  nan\n",
      "   nan  nan  nan  nan  nan  nan  nan  nan  nan  nan  nan  nan  nan  nan\n",
      "   nan  nan  nan  nan  nan  nan  nan  nan  nan  nan  nan  nan  nan  nan\n",
      "   nan  nan  nan  nan  nan  nan  nan  nan  nan  nan  nan  nan  nan  nan\n",
      "   nan  nan  nan  nan  nan  nan  nan  nan  nan  nan  nan  nan  nan  nan\n",
      "   nan  nan  nan  nan  nan  nan  nan  nan  nan  nan  nan  nan  nan  nan\n",
      "   nan  nan  nan  nan  nan  nan  nan  nan  nan  nan  nan  nan  nan  nan\n",
      "   nan  nan  nan  nan  nan  nan  nan  nan  nan  nan  nan  nan  nan  nan\n",
      "   nan  nan  nan  nan]]\n",
      "[[ nan  nan  nan  nan  nan  nan  nan  nan  nan  nan  nan  nan  nan  nan\n",
      "   nan  nan  nan  nan  nan  nan  nan  nan  nan  nan  nan  nan  nan  nan\n",
      "   nan  nan  nan  nan  nan  nan  nan  nan  nan  nan  nan  nan  nan  nan\n",
      "   nan  nan  nan  nan  nan  nan  nan  nan  nan  nan  nan  nan  nan  nan\n",
      "   nan  nan  nan  nan  nan  nan  nan  nan  nan  nan  nan  nan  nan  nan\n",
      "   nan  nan  nan  nan  nan  nan  nan  nan  nan  nan  nan  nan  nan  nan\n",
      "   nan  nan  nan  nan  nan  nan  nan  nan  nan  nan  nan  nan  nan  nan\n",
      "   nan  nan  nan  nan  nan  nan  nan  nan  nan  nan  nan  nan  nan  nan\n",
      "   nan  nan  nan  nan  nan  nan  nan  nan  nan  nan  nan  nan  nan  nan\n",
      "   nan  nan  nan  nan  nan  nan  nan  nan  nan  nan  nan  nan  nan  nan\n",
      "   nan  nan  nan  nan  nan  nan  nan  nan  nan  nan  nan  nan  nan  nan\n",
      "   nan  nan  nan  nan  nan  nan  nan  nan  nan  nan  nan  nan  nan  nan\n",
      "   nan  nan  nan  nan  nan  nan  nan  nan  nan  nan  nan  nan  nan  nan\n",
      "   nan  nan  nan  nan  nan  nan  nan  nan  nan  nan  nan  nan  nan  nan\n",
      "   nan  nan  nan  nan]]\n",
      "[[ nan  nan  nan  nan  nan  nan  nan  nan  nan  nan  nan  nan  nan  nan\n",
      "   nan  nan  nan  nan  nan  nan  nan  nan  nan  nan  nan  nan  nan  nan\n",
      "   nan  nan  nan  nan  nan  nan  nan  nan  nan  nan  nan  nan  nan  nan\n",
      "   nan  nan  nan  nan  nan  nan  nan  nan  nan  nan  nan  nan  nan  nan\n",
      "   nan  nan  nan  nan  nan  nan  nan  nan  nan  nan  nan  nan  nan  nan\n",
      "   nan  nan  nan  nan  nan  nan  nan  nan  nan  nan  nan  nan  nan  nan\n",
      "   nan  nan  nan  nan  nan  nan  nan  nan  nan  nan  nan  nan  nan  nan\n",
      "   nan  nan  nan  nan  nan  nan  nan  nan  nan  nan  nan  nan  nan  nan\n",
      "   nan  nan  nan  nan  nan  nan  nan  nan  nan  nan  nan  nan  nan  nan\n",
      "   nan  nan  nan  nan  nan  nan  nan  nan  nan  nan  nan  nan  nan  nan\n",
      "   nan  nan  nan  nan  nan  nan  nan  nan  nan  nan  nan  nan  nan  nan\n",
      "   nan  nan  nan  nan  nan  nan  nan  nan  nan  nan  nan  nan  nan  nan\n",
      "   nan  nan  nan  nan  nan  nan  nan  nan  nan  nan  nan  nan  nan  nan\n",
      "   nan  nan  nan  nan  nan  nan  nan  nan  nan  nan  nan  nan  nan  nan\n",
      "   nan  nan  nan  nan]]\n",
      "[[ nan  nan  nan  nan  nan  nan  nan  nan  nan  nan  nan  nan  nan  nan\n",
      "   nan  nan  nan  nan  nan  nan  nan  nan  nan  nan  nan  nan  nan  nan\n",
      "   nan  nan  nan  nan  nan  nan  nan  nan  nan  nan  nan  nan  nan  nan\n",
      "   nan  nan  nan  nan  nan  nan  nan  nan  nan  nan  nan  nan  nan  nan\n",
      "   nan  nan  nan  nan  nan  nan  nan  nan  nan  nan  nan  nan  nan  nan\n",
      "   nan  nan  nan  nan  nan  nan  nan  nan  nan  nan  nan  nan  nan  nan\n",
      "   nan  nan  nan  nan  nan  nan  nan  nan  nan  nan  nan  nan  nan  nan\n",
      "   nan  nan  nan  nan  nan  nan  nan  nan  nan  nan  nan  nan  nan  nan\n",
      "   nan  nan  nan  nan  nan  nan  nan  nan  nan  nan  nan  nan  nan  nan\n",
      "   nan  nan  nan  nan  nan  nan  nan  nan  nan  nan  nan  nan  nan  nan\n",
      "   nan  nan  nan  nan  nan  nan  nan  nan  nan  nan  nan  nan  nan  nan\n",
      "   nan  nan  nan  nan  nan  nan  nan  nan  nan  nan  nan  nan  nan  nan\n",
      "   nan  nan  nan  nan  nan  nan  nan  nan  nan  nan  nan  nan  nan  nan\n",
      "   nan  nan  nan  nan  nan  nan  nan  nan  nan  nan  nan  nan  nan  nan\n",
      "   nan  nan  nan  nan]]\n",
      "[[ nan  nan  nan  nan  nan  nan  nan  nan  nan  nan  nan  nan  nan  nan\n",
      "   nan  nan  nan  nan  nan  nan  nan  nan  nan  nan  nan  nan  nan  nan\n",
      "   nan  nan  nan  nan  nan  nan  nan  nan  nan  nan  nan  nan  nan  nan\n",
      "   nan  nan  nan  nan  nan  nan  nan  nan  nan  nan  nan  nan  nan  nan\n",
      "   nan  nan  nan  nan  nan  nan  nan  nan  nan  nan  nan  nan  nan  nan\n",
      "   nan  nan  nan  nan  nan  nan  nan  nan  nan  nan  nan  nan  nan  nan\n",
      "   nan  nan  nan  nan  nan  nan  nan  nan  nan  nan  nan  nan  nan  nan\n",
      "   nan  nan  nan  nan  nan  nan  nan  nan  nan  nan  nan  nan  nan  nan\n",
      "   nan  nan  nan  nan  nan  nan  nan  nan  nan  nan  nan  nan  nan  nan\n",
      "   nan  nan  nan  nan  nan  nan  nan  nan  nan  nan  nan  nan  nan  nan\n",
      "   nan  nan  nan  nan  nan  nan  nan  nan  nan  nan  nan  nan  nan  nan\n",
      "   nan  nan  nan  nan  nan  nan  nan  nan  nan  nan  nan  nan  nan  nan\n",
      "   nan  nan  nan  nan  nan  nan  nan  nan  nan  nan  nan  nan  nan  nan\n",
      "   nan  nan  nan  nan  nan  nan  nan  nan  nan  nan  nan  nan  nan  nan\n",
      "   nan  nan  nan  nan]]\n",
      "[[ nan  nan  nan  nan  nan  nan  nan  nan  nan  nan  nan  nan  nan  nan\n",
      "   nan  nan  nan  nan  nan  nan  nan  nan  nan  nan  nan  nan  nan  nan\n",
      "   nan  nan  nan  nan  nan  nan  nan  nan  nan  nan  nan  nan  nan  nan\n",
      "   nan  nan  nan  nan  nan  nan  nan  nan  nan  nan  nan  nan  nan  nan\n",
      "   nan  nan  nan  nan  nan  nan  nan  nan  nan  nan  nan  nan  nan  nan\n",
      "   nan  nan  nan  nan  nan  nan  nan  nan  nan  nan  nan  nan  nan  nan\n",
      "   nan  nan  nan  nan  nan  nan  nan  nan  nan  nan  nan  nan  nan  nan\n",
      "   nan  nan  nan  nan  nan  nan  nan  nan  nan  nan  nan  nan  nan  nan\n",
      "   nan  nan  nan  nan  nan  nan  nan  nan  nan  nan  nan  nan  nan  nan\n",
      "   nan  nan  nan  nan  nan  nan  nan  nan  nan  nan  nan  nan  nan  nan\n",
      "   nan  nan  nan  nan  nan  nan  nan  nan  nan  nan  nan  nan  nan  nan\n",
      "   nan  nan  nan  nan  nan  nan  nan  nan  nan  nan  nan  nan  nan  nan\n",
      "   nan  nan  nan  nan  nan  nan  nan  nan  nan  nan  nan  nan  nan  nan\n",
      "   nan  nan  nan  nan  nan  nan  nan  nan  nan  nan  nan  nan  nan  nan\n",
      "   nan  nan  nan  nan]]\n",
      "[[ nan  nan  nan  nan  nan  nan  nan  nan  nan  nan  nan  nan  nan  nan\n",
      "   nan  nan  nan  nan  nan  nan  nan  nan  nan  nan  nan  nan  nan  nan\n",
      "   nan  nan  nan  nan  nan  nan  nan  nan  nan  nan  nan  nan  nan  nan\n",
      "   nan  nan  nan  nan  nan  nan  nan  nan  nan  nan  nan  nan  nan  nan\n",
      "   nan  nan  nan  nan  nan  nan  nan  nan  nan  nan  nan  nan  nan  nan\n",
      "   nan  nan  nan  nan  nan  nan  nan  nan  nan  nan  nan  nan  nan  nan\n",
      "   nan  nan  nan  nan  nan  nan  nan  nan  nan  nan  nan  nan  nan  nan\n",
      "   nan  nan  nan  nan  nan  nan  nan  nan  nan  nan  nan  nan  nan  nan\n",
      "   nan  nan  nan  nan  nan  nan  nan  nan  nan  nan  nan  nan  nan  nan\n",
      "   nan  nan  nan  nan  nan  nan  nan  nan  nan  nan  nan  nan  nan  nan\n",
      "   nan  nan  nan  nan  nan  nan  nan  nan  nan  nan  nan  nan  nan  nan\n",
      "   nan  nan  nan  nan  nan  nan  nan  nan  nan  nan  nan  nan  nan  nan\n",
      "   nan  nan  nan  nan  nan  nan  nan  nan  nan  nan  nan  nan  nan  nan\n",
      "   nan  nan  nan  nan  nan  nan  nan  nan  nan  nan  nan  nan  nan  nan\n",
      "   nan  nan  nan  nan]]\n",
      "[[ nan  nan  nan  nan  nan  nan  nan  nan  nan  nan  nan  nan  nan  nan\n",
      "   nan  nan  nan  nan  nan  nan  nan  nan  nan  nan  nan  nan  nan  nan\n",
      "   nan  nan  nan  nan  nan  nan  nan  nan  nan  nan  nan  nan  nan  nan\n",
      "   nan  nan  nan  nan  nan  nan  nan  nan  nan  nan  nan  nan  nan  nan\n",
      "   nan  nan  nan  nan  nan  nan  nan  nan  nan  nan  nan  nan  nan  nan\n",
      "   nan  nan  nan  nan  nan  nan  nan  nan  nan  nan  nan  nan  nan  nan\n",
      "   nan  nan  nan  nan  nan  nan  nan  nan  nan  nan  nan  nan  nan  nan\n",
      "   nan  nan  nan  nan  nan  nan  nan  nan  nan  nan  nan  nan  nan  nan\n",
      "   nan  nan  nan  nan  nan  nan  nan  nan  nan  nan  nan  nan  nan  nan\n",
      "   nan  nan  nan  nan  nan  nan  nan  nan  nan  nan  nan  nan  nan  nan\n",
      "   nan  nan  nan  nan  nan  nan  nan  nan  nan  nan  nan  nan  nan  nan\n",
      "   nan  nan  nan  nan  nan  nan  nan  nan  nan  nan  nan  nan  nan  nan\n",
      "   nan  nan  nan  nan  nan  nan  nan  nan  nan  nan  nan  nan  nan  nan\n",
      "   nan  nan  nan  nan  nan  nan  nan  nan  nan  nan  nan  nan  nan  nan\n",
      "   nan  nan  nan  nan]]\n",
      "[[ nan  nan  nan  nan  nan  nan  nan  nan  nan  nan  nan  nan  nan  nan\n",
      "   nan  nan  nan  nan  nan  nan  nan  nan  nan  nan  nan  nan  nan  nan\n",
      "   nan  nan  nan  nan  nan  nan  nan  nan  nan  nan  nan  nan  nan  nan\n",
      "   nan  nan  nan  nan  nan  nan  nan  nan  nan  nan  nan  nan  nan  nan\n",
      "   nan  nan  nan  nan  nan  nan  nan  nan  nan  nan  nan  nan  nan  nan\n",
      "   nan  nan  nan  nan  nan  nan  nan  nan  nan  nan  nan  nan  nan  nan\n",
      "   nan  nan  nan  nan  nan  nan  nan  nan  nan  nan  nan  nan  nan  nan\n",
      "   nan  nan  nan  nan  nan  nan  nan  nan  nan  nan  nan  nan  nan  nan\n",
      "   nan  nan  nan  nan  nan  nan  nan  nan  nan  nan  nan  nan  nan  nan\n",
      "   nan  nan  nan  nan  nan  nan  nan  nan  nan  nan  nan  nan  nan  nan\n",
      "   nan  nan  nan  nan  nan  nan  nan  nan  nan  nan  nan  nan  nan  nan\n",
      "   nan  nan  nan  nan  nan  nan  nan  nan  nan  nan  nan  nan  nan  nan\n",
      "   nan  nan  nan  nan  nan  nan  nan  nan  nan  nan  nan  nan  nan  nan\n",
      "   nan  nan  nan  nan  nan  nan  nan  nan  nan  nan  nan  nan  nan  nan\n",
      "   nan  nan  nan  nan]]\n",
      "[[ nan  nan  nan  nan  nan  nan  nan  nan  nan  nan  nan  nan  nan  nan\n",
      "   nan  nan  nan  nan  nan  nan  nan  nan  nan  nan  nan  nan  nan  nan\n",
      "   nan  nan  nan  nan  nan  nan  nan  nan  nan  nan  nan  nan  nan  nan\n",
      "   nan  nan  nan  nan  nan  nan  nan  nan  nan  nan  nan  nan  nan  nan\n",
      "   nan  nan  nan  nan  nan  nan  nan  nan  nan  nan  nan  nan  nan  nan\n",
      "   nan  nan  nan  nan  nan  nan  nan  nan  nan  nan  nan  nan  nan  nan\n",
      "   nan  nan  nan  nan  nan  nan  nan  nan  nan  nan  nan  nan  nan  nan\n",
      "   nan  nan  nan  nan  nan  nan  nan  nan  nan  nan  nan  nan  nan  nan\n",
      "   nan  nan  nan  nan  nan  nan  nan  nan  nan  nan  nan  nan  nan  nan\n",
      "   nan  nan  nan  nan  nan  nan  nan  nan  nan  nan  nan  nan  nan  nan\n",
      "   nan  nan  nan  nan  nan  nan  nan  nan  nan  nan  nan  nan  nan  nan\n",
      "   nan  nan  nan  nan  nan  nan  nan  nan  nan  nan  nan  nan  nan  nan\n",
      "   nan  nan  nan  nan  nan  nan  nan  nan  nan  nan  nan  nan  nan  nan\n",
      "   nan  nan  nan  nan  nan  nan  nan  nan  nan  nan  nan  nan  nan  nan\n",
      "   nan  nan  nan  nan]]\n"
     ]
    },
    {
     "name": "stdout",
     "output_type": "stream",
     "text": [
      "[[ nan  nan  nan  nan  nan  nan  nan  nan  nan  nan  nan  nan  nan  nan\n",
      "   nan  nan  nan  nan  nan  nan  nan  nan  nan  nan  nan  nan  nan  nan\n",
      "   nan  nan  nan  nan  nan  nan  nan  nan  nan  nan  nan  nan  nan  nan\n",
      "   nan  nan  nan  nan  nan  nan  nan  nan  nan  nan  nan  nan  nan  nan\n",
      "   nan  nan  nan  nan  nan  nan  nan  nan  nan  nan  nan  nan  nan  nan\n",
      "   nan  nan  nan  nan  nan  nan  nan  nan  nan  nan  nan  nan  nan  nan\n",
      "   nan  nan  nan  nan  nan  nan  nan  nan  nan  nan  nan  nan  nan  nan\n",
      "   nan  nan  nan  nan  nan  nan  nan  nan  nan  nan  nan  nan  nan  nan\n",
      "   nan  nan  nan  nan  nan  nan  nan  nan  nan  nan  nan  nan  nan  nan\n",
      "   nan  nan  nan  nan  nan  nan  nan  nan  nan  nan  nan  nan  nan  nan\n",
      "   nan  nan  nan  nan  nan  nan  nan  nan  nan  nan  nan  nan  nan  nan\n",
      "   nan  nan  nan  nan  nan  nan  nan  nan  nan  nan  nan  nan  nan  nan\n",
      "   nan  nan  nan  nan  nan  nan  nan  nan  nan  nan  nan  nan  nan  nan\n",
      "   nan  nan  nan  nan  nan  nan  nan  nan  nan  nan  nan  nan  nan  nan\n",
      "   nan  nan  nan  nan]]\n",
      "[[ nan  nan  nan  nan  nan  nan  nan  nan  nan  nan  nan  nan  nan  nan\n",
      "   nan  nan  nan  nan  nan  nan  nan  nan  nan  nan  nan  nan  nan  nan\n",
      "   nan  nan  nan  nan  nan  nan  nan  nan  nan  nan  nan  nan  nan  nan\n",
      "   nan  nan  nan  nan  nan  nan  nan  nan  nan  nan  nan  nan  nan  nan\n",
      "   nan  nan  nan  nan  nan  nan  nan  nan  nan  nan  nan  nan  nan  nan\n",
      "   nan  nan  nan  nan  nan  nan  nan  nan  nan  nan  nan  nan  nan  nan\n",
      "   nan  nan  nan  nan  nan  nan  nan  nan  nan  nan  nan  nan  nan  nan\n",
      "   nan  nan  nan  nan  nan  nan  nan  nan  nan  nan  nan  nan  nan  nan\n",
      "   nan  nan  nan  nan  nan  nan  nan  nan  nan  nan  nan  nan  nan  nan\n",
      "   nan  nan  nan  nan  nan  nan  nan  nan  nan  nan  nan  nan  nan  nan\n",
      "   nan  nan  nan  nan  nan  nan  nan  nan  nan  nan  nan  nan  nan  nan\n",
      "   nan  nan  nan  nan  nan  nan  nan  nan  nan  nan  nan  nan  nan  nan\n",
      "   nan  nan  nan  nan  nan  nan  nan  nan  nan  nan  nan  nan  nan  nan\n",
      "   nan  nan  nan  nan  nan  nan  nan  nan  nan  nan  nan  nan  nan  nan\n",
      "   nan  nan  nan  nan]]\n",
      "[[ nan  nan  nan  nan  nan  nan  nan  nan  nan  nan  nan  nan  nan  nan\n",
      "   nan  nan  nan  nan  nan  nan  nan  nan  nan  nan  nan  nan  nan  nan\n",
      "   nan  nan  nan  nan  nan  nan  nan  nan  nan  nan  nan  nan  nan  nan\n",
      "   nan  nan  nan  nan  nan  nan  nan  nan  nan  nan  nan  nan  nan  nan\n",
      "   nan  nan  nan  nan  nan  nan  nan  nan  nan  nan  nan  nan  nan  nan\n",
      "   nan  nan  nan  nan  nan  nan  nan  nan  nan  nan  nan  nan  nan  nan\n",
      "   nan  nan  nan  nan  nan  nan  nan  nan  nan  nan  nan  nan  nan  nan\n",
      "   nan  nan  nan  nan  nan  nan  nan  nan  nan  nan  nan  nan  nan  nan\n",
      "   nan  nan  nan  nan  nan  nan  nan  nan  nan  nan  nan  nan  nan  nan\n",
      "   nan  nan  nan  nan  nan  nan  nan  nan  nan  nan  nan  nan  nan  nan\n",
      "   nan  nan  nan  nan  nan  nan  nan  nan  nan  nan  nan  nan  nan  nan\n",
      "   nan  nan  nan  nan  nan  nan  nan  nan  nan  nan  nan  nan  nan  nan\n",
      "   nan  nan  nan  nan  nan  nan  nan  nan  nan  nan  nan  nan  nan  nan\n",
      "   nan  nan  nan  nan  nan  nan  nan  nan  nan  nan  nan  nan  nan  nan\n",
      "   nan  nan  nan  nan]]\n",
      "[[ nan  nan  nan  nan  nan  nan  nan  nan  nan  nan  nan  nan  nan  nan\n",
      "   nan  nan  nan  nan  nan  nan  nan  nan  nan  nan  nan  nan  nan  nan\n",
      "   nan  nan  nan  nan  nan  nan  nan  nan  nan  nan  nan  nan  nan  nan\n",
      "   nan  nan  nan  nan  nan  nan  nan  nan  nan  nan  nan  nan  nan  nan\n",
      "   nan  nan  nan  nan  nan  nan  nan  nan  nan  nan  nan  nan  nan  nan\n",
      "   nan  nan  nan  nan  nan  nan  nan  nan  nan  nan  nan  nan  nan  nan\n",
      "   nan  nan  nan  nan  nan  nan  nan  nan  nan  nan  nan  nan  nan  nan\n",
      "   nan  nan  nan  nan  nan  nan  nan  nan  nan  nan  nan  nan  nan  nan\n",
      "   nan  nan  nan  nan  nan  nan  nan  nan  nan  nan  nan  nan  nan  nan\n",
      "   nan  nan  nan  nan  nan  nan  nan  nan  nan  nan  nan  nan  nan  nan\n",
      "   nan  nan  nan  nan  nan  nan  nan  nan  nan  nan  nan  nan  nan  nan\n",
      "   nan  nan  nan  nan  nan  nan  nan  nan  nan  nan  nan  nan  nan  nan\n",
      "   nan  nan  nan  nan  nan  nan  nan  nan  nan  nan  nan  nan  nan  nan\n",
      "   nan  nan  nan  nan  nan  nan  nan  nan  nan  nan  nan  nan  nan  nan\n",
      "   nan  nan  nan  nan]]\n"
     ]
    },
    {
     "data": {
      "text/plain": [
       "(-40, 40)"
      ]
     },
     "execution_count": 173,
     "metadata": {},
     "output_type": "execute_result"
    },
    {
     "data": {
      "image/png": "[encoded data removed]",
      "text/plain": [
       "<matplotlib.figure.Figure at 0x7f56df178b38>"
      ]
     },
     "metadata": {},
     "output_type": "display_data"
    }
   ],
   "source": [
    "def train(inputs, targets, eta=0.01, activation=lambda x: x, batch=True, epochs=200):\n",
    "    bias = ones((1, inputs.shape[1])) # create a 1xn vector of 1s as our bias\n",
    "    X = vstack((inputs, bias)) # add bias to the inputs, resulting in a 3xn matrix\n",
    "\n",
    "    weights = random.rand(1, X.shape[0]) # create a 1x3 vector of random weights\n",
    "    error = zeros(epochs) # create a vector to store error computed at each epoch\n",
    "    \n",
    "    if batch:    \n",
    "        for i in range(epochs):\n",
    "            err = (activation(dot(weights, X)) - targets)\n",
    "            deltaW = -eta * dot(err, X.T)\n",
    "            weights = weights + deltaW # update weights\n",
    "            error[i] = mean(power(err, 2)) # calculate mean square error for each epoch\n",
    "    else:\n",
    "        for i in range(epochs):\n",
    "            for j in range(X.shape[1]):\n",
    "                err = (activation(dot(weights, X[:,j])) - targets[j])\n",
    "                deltaW = -eta * err * X[:,j]\n",
    "                weights = weights + deltaW # update weights\n",
    "            \n",
    "            err = (activation(dot(weights, X)) - targets)\n",
    "            error[i] = mean(power(err, 2)) # calculate mean square error for each epoch\n",
    "    return weights, error\n",
    "\n",
    "W, err = train(data[0:2,:], data[2,:], batch=False, epochs=20)\n",
    "subplot(1, 2, 1)\n",
    "plot(err)\n",
    "subplot(1, 2, 2)\n",
    "scatter(data[0,:], data[1,:], c=data[2,:], cmap=matplotlib.colors.ListedColormap(colors))\n",
    "x = linspace(-40, 40, 2) # generate two values between -2 and 2\n",
    "boundary = -(W[0,1] / W[0,0]) * x - (W[0,2] / W[0,0]) # calculate the decision boundary\n",
    "plot(x, boundary)\n",
    "xlim([-40, 40])\n",
    "ylim([-40, 40])"
   ]
  },
  {
   "cell_type": "markdown",
   "metadata": {},
   "source": [
    "#### Perceptron learning batch mode"
   ]
  },
  {
   "cell_type": "code",
   "execution_count": 146,
   "metadata": {},
   "outputs": [
    {
     "data": {
      "text/plain": [
       "[<matplotlib.lines.Line2D at 0x7f56df79b240>]"
      ]
     },
     "execution_count": 146,
     "metadata": {},
     "output_type": "execute_result"
    },
    {
     "data": {
      "image/png": "[encoded data removed]",
      "text/plain": [
       "<matplotlib.figure.Figure at 0x7f56df7dc5f8>"
      ]
     },
     "metadata": {},
     "output_type": "display_data"
    }
   ],
   "source": [
    "W, err = train(data[0:2,:], data[2,:], activation=sign, batch=True)\n",
    "plot(err)"
   ]
  },
  {
   "cell_type": "code",
   "execution_count": 147,
   "metadata": {},
   "outputs": [
    {
     "data": {
      "text/plain": [
       "(-40, 40)"
      ]
     },
     "execution_count": 147,
     "metadata": {},
     "output_type": "execute_result"
    },
    {
     "data": {
      "image/png": "[encoded data removed]",
      "text/plain": [
       "<matplotlib.figure.Figure at 0x7f56df7dce10>"
      ]
     },
     "metadata": {},
     "output_type": "display_data"
    }
   ],
   "source": [
    "scatter(data[0,:], data[1,:], c=data[2,:], cmap=matplotlib.colors.ListedColormap(colors))\n",
    "x = linspace(-40, 40, 2) # generate two values between -2 and 2\n",
    "boundary = -(W[0,1] / W[0,0]) * x - (W[0,2] / W[0,0]) # calculate the decision boundary\n",
    "plot(x, boundary)\n",
    "xlim([-40, 40])\n",
    "ylim([-40, 40])"
   ]
  },
  {
   "cell_type": "markdown",
   "metadata": {},
   "source": [
    "#### Perceptron learning sequential mode"
   ]
  },
  {
   "cell_type": "code",
   "execution_count": 148,
   "metadata": {},
   "outputs": [
    {
     "data": {
      "text/plain": [
       "[<matplotlib.lines.Line2D at 0x7f56df71c5f8>]"
      ]
     },
     "execution_count": 148,
     "metadata": {},
     "output_type": "execute_result"
    },
    {
     "data": {
      "image/png": "[encoded data removed]",
      "text/plain": [
       "<matplotlib.figure.Figure at 0x7f56df7825c0>"
      ]
     },
     "metadata": {},
     "output_type": "display_data"
    }
   ],
   "source": [
    "W, err = train(data[0:2,:], data[2,:], activation=sign, batch=False)\n",
    "plot(err)"
   ]
  },
  {
   "cell_type": "code",
   "execution_count": 149,
   "metadata": {},
   "outputs": [
    {
     "data": {
      "text/plain": [
       "(-40, 40)"
      ]
     },
     "execution_count": 149,
     "metadata": {},
     "output_type": "execute_result"
    },
    {
     "data": {
      "image/png": "[encoded data removed]",
      "text/plain": [
       "<matplotlib.figure.Figure at 0x7f56df734080>"
      ]
     },
     "metadata": {},
     "output_type": "display_data"
    }
   ],
   "source": [
    "scatter(data[0,:], data[1,:], c=data[2,:], cmap=matplotlib.colors.ListedColormap(colors))\n",
    "x = linspace(-40, 40, 2) # generate two values between -2 and 2\n",
    "boundary = -(W[0,1] / W[0,0]) * x - (W[0,2] / W[0,0]) # calculate the decision boundary\n",
    "plot(x, boundary)\n",
    "xlim([-40, 40])\n",
    "ylim([-40, 40])"
   ]
  },
  {
   "cell_type": "markdown",
   "metadata": {},
   "source": [
    "#### Delta Rule batch mode"
   ]
  },
  {
   "cell_type": "code",
   "execution_count": 150,
   "metadata": {},
   "outputs": [
    {
     "name": "stderr",
     "output_type": "stream",
     "text": [
      "/usr/local/lib/python3.5/dist-packages/ipykernel_launcher.py:13: RuntimeWarning: overflow encountered in power\n",
      "  del sys.path[0]\n"
     ]
    },
    {
     "data": {
      "text/plain": [
       "[<matplotlib.lines.Line2D at 0x7f56df698978>]"
      ]
     },
     "execution_count": 150,
     "metadata": {},
     "output_type": "execute_result"
    },
    {
     "data": {
      "image/png": "[encoded data removed]",
      "text/plain": [
       "<matplotlib.figure.Figure at 0x7f56df8b0160>"
      ]
     },
     "metadata": {},
     "output_type": "display_data"
    }
   ],
   "source": [
    "W, err = train(data[0:2,:], data[2,:])\n",
    "plot(err)"
   ]
  },
  {
   "cell_type": "code",
   "execution_count": 151,
   "metadata": {},
   "outputs": [
    {
     "data": {
      "text/plain": [
       "(-40, 40)"
      ]
     },
     "execution_count": 151,
     "metadata": {},
     "output_type": "execute_result"
    },
    {
     "data": {
      "image/png": "[encoded data removed]",
      "text/plain": [
       "<matplotlib.figure.Figure at 0x7f56df69d400>"
      ]
     },
     "metadata": {},
     "output_type": "display_data"
    }
   ],
   "source": [
    "scatter(data[0,:], data[1,:], c=data[2,:], cmap=matplotlib.colors.ListedColormap(colors))\n",
    "x = linspace(-40, 40, 2) # generate two values between -2 and 2\n",
    "boundary = -(W[0,1] / W[0,0]) * x - (W[0,2] / W[0,0]) # calculate the decision boundary\n",
    "plot(x, boundary)\n",
    "xlim([-40, 40])\n",
    "ylim([-40, 40])"
   ]
  },
  {
   "cell_type": "markdown",
   "metadata": {},
   "source": [
    "#### Delta Rule sequential mode"
   ]
  },
  {
   "cell_type": "code",
   "execution_count": 152,
   "metadata": {
    "scrolled": false
   },
   "outputs": [
    {
     "data": {
      "text/plain": [
       "[<matplotlib.lines.Line2D at 0x7f56df617a20>]"
      ]
     },
     "execution_count": 152,
     "metadata": {},
     "output_type": "execute_result"
    },
    {
     "data": {
      "image/png": "[encoded data removed]",
      "text/plain": [
       "<matplotlib.figure.Figure at 0x7f56e017ab38>"
      ]
     },
     "metadata": {},
     "output_type": "display_data"
    }
   ],
   "source": [
    "W, err = train(data[0:2,:], data[2,:], batch=False, epochs=2)\n",
    "plot(err)"
   ]
  },
  {
   "cell_type": "code",
   "execution_count": 98,
   "metadata": {},
   "outputs": [
    {
     "data": {
      "text/plain": [
       "(-40, 40)"
      ]
     },
     "execution_count": 98,
     "metadata": {},
     "output_type": "execute_result"
    },
    {
     "data": {
      "image/png": "[encoded data removed]",
      "text/plain": [
       "<matplotlib.figure.Figure at 0x7f56e040a390>"
      ]
     },
     "metadata": {},
     "output_type": "display_data"
    }
   ],
   "source": [
    "scatter(data[0,:], data[1,:], c=data[2,:], cmap=matplotlib.colors.ListedColormap(colors))\n",
    "x = linspace(-40, 40, 2) # generate two values between -2 and 2\n",
    "boundary = -(W[0,1] / W[0,0]) * x - (W[0,2] / W[0,0]) # calculate the decision boundary\n",
    "plot(x, boundary)\n",
    "xlim([-40, 40])\n",
    "ylim([-40, 40])"
   ]
  },
  {
   "cell_type": "code",
   "execution_count": null,
   "metadata": {},
   "outputs": [],
   "source": []
  }
 ],
 "metadata": {
  "kernelspec": {
   "display_name": "Python 3",
   "language": "python",
   "name": "python3"
  },
  "language_info": {
   "codemirror_mode": {
    "name": "ipython",
    "version": 3
   },
   "file_extension": ".py",
   "mimetype": "text/x-python",
   "name": "python",
   "nbconvert_exporter": "python",
   "pygments_lexer": "ipython3",
   "version": "3.5.2"
  }
 },
 "nbformat": 4,
 "nbformat_minor": 2
}
